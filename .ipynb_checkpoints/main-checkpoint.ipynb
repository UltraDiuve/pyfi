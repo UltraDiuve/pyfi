{
 "cells": [
  {
   "cell_type": "code",
   "execution_count": 22,
   "id": "5ff20810",
   "metadata": {},
   "outputs": [],
   "source": [
    "import pandas_datareader as pdr\n",
    "import numpy as np\n",
    "import datetime as dt\n",
    "import matplotlib.pyplot as plt"
   ]
  },
  {
   "cell_type": "code",
   "execution_count": 6,
   "id": "dcea81fe",
   "metadata": {},
   "outputs": [],
   "source": [
    "yahoo_data = pdr.get_data_yahoo(\n",
    "    'AAPL',\n",
    "    start=dt.datetime(2006, 1, 1),\n",
    "    end=dt.datetime(2021, 5, 16),\n",
    ")"
   ]
  },
  {
   "cell_type": "code",
   "execution_count": 7,
   "id": "1b69431f",
   "metadata": {},
   "outputs": [
    {
     "data": {
      "text/html": [
       "<div>\n",
       "<style scoped>\n",
       "    .dataframe tbody tr th:only-of-type {\n",
       "        vertical-align: middle;\n",
       "    }\n",
       "\n",
       "    .dataframe tbody tr th {\n",
       "        vertical-align: top;\n",
       "    }\n",
       "\n",
       "    .dataframe thead th {\n",
       "        text-align: right;\n",
       "    }\n",
       "</style>\n",
       "<table border=\"1\" class=\"dataframe\">\n",
       "  <thead>\n",
       "    <tr style=\"text-align: right;\">\n",
       "      <th></th>\n",
       "      <th>High</th>\n",
       "      <th>Low</th>\n",
       "      <th>Open</th>\n",
       "      <th>Close</th>\n",
       "      <th>Volume</th>\n",
       "      <th>Adj Close</th>\n",
       "    </tr>\n",
       "    <tr>\n",
       "      <th>Date</th>\n",
       "      <th></th>\n",
       "      <th></th>\n",
       "      <th></th>\n",
       "      <th></th>\n",
       "      <th></th>\n",
       "      <th></th>\n",
       "    </tr>\n",
       "  </thead>\n",
       "  <tbody>\n",
       "    <tr>\n",
       "      <th>2006-01-03</th>\n",
       "      <td>2.669643</td>\n",
       "      <td>2.580357</td>\n",
       "      <td>2.585000</td>\n",
       "      <td>2.669643</td>\n",
       "      <td>807234400.0</td>\n",
       "      <td>2.295634</td>\n",
       "    </tr>\n",
       "    <tr>\n",
       "      <th>2006-01-04</th>\n",
       "      <td>2.713571</td>\n",
       "      <td>2.660714</td>\n",
       "      <td>2.683214</td>\n",
       "      <td>2.677500</td>\n",
       "      <td>619603600.0</td>\n",
       "      <td>2.302390</td>\n",
       "    </tr>\n",
       "    <tr>\n",
       "      <th>2006-01-05</th>\n",
       "      <td>2.675000</td>\n",
       "      <td>2.633929</td>\n",
       "      <td>2.672500</td>\n",
       "      <td>2.656429</td>\n",
       "      <td>449422400.0</td>\n",
       "      <td>2.284271</td>\n",
       "    </tr>\n",
       "    <tr>\n",
       "      <th>2006-01-06</th>\n",
       "      <td>2.739286</td>\n",
       "      <td>2.662500</td>\n",
       "      <td>2.687500</td>\n",
       "      <td>2.725000</td>\n",
       "      <td>704457600.0</td>\n",
       "      <td>2.343235</td>\n",
       "    </tr>\n",
       "    <tr>\n",
       "      <th>2006-01-09</th>\n",
       "      <td>2.757143</td>\n",
       "      <td>2.705000</td>\n",
       "      <td>2.740357</td>\n",
       "      <td>2.716071</td>\n",
       "      <td>675040800.0</td>\n",
       "      <td>2.335557</td>\n",
       "    </tr>\n",
       "    <tr>\n",
       "      <th>...</th>\n",
       "      <td>...</td>\n",
       "      <td>...</td>\n",
       "      <td>...</td>\n",
       "      <td>...</td>\n",
       "      <td>...</td>\n",
       "      <td>...</td>\n",
       "    </tr>\n",
       "    <tr>\n",
       "      <th>2021-05-10</th>\n",
       "      <td>129.539993</td>\n",
       "      <td>126.809998</td>\n",
       "      <td>129.410004</td>\n",
       "      <td>126.849998</td>\n",
       "      <td>88071200.0</td>\n",
       "      <td>126.849998</td>\n",
       "    </tr>\n",
       "    <tr>\n",
       "      <th>2021-05-11</th>\n",
       "      <td>126.269997</td>\n",
       "      <td>122.769997</td>\n",
       "      <td>123.500000</td>\n",
       "      <td>125.910004</td>\n",
       "      <td>126142800.0</td>\n",
       "      <td>125.910004</td>\n",
       "    </tr>\n",
       "    <tr>\n",
       "      <th>2021-05-12</th>\n",
       "      <td>124.639999</td>\n",
       "      <td>122.250000</td>\n",
       "      <td>123.400002</td>\n",
       "      <td>122.769997</td>\n",
       "      <td>112172300.0</td>\n",
       "      <td>122.769997</td>\n",
       "    </tr>\n",
       "    <tr>\n",
       "      <th>2021-05-13</th>\n",
       "      <td>126.150002</td>\n",
       "      <td>124.260002</td>\n",
       "      <td>124.580002</td>\n",
       "      <td>124.970001</td>\n",
       "      <td>105861300.0</td>\n",
       "      <td>124.970001</td>\n",
       "    </tr>\n",
       "    <tr>\n",
       "      <th>2021-05-14</th>\n",
       "      <td>127.889999</td>\n",
       "      <td>125.849998</td>\n",
       "      <td>126.250000</td>\n",
       "      <td>127.449997</td>\n",
       "      <td>81806500.0</td>\n",
       "      <td>127.449997</td>\n",
       "    </tr>\n",
       "  </tbody>\n",
       "</table>\n",
       "<p>3868 rows × 6 columns</p>\n",
       "</div>"
      ],
      "text/plain": [
       "                  High         Low        Open       Close       Volume  \\\n",
       "Date                                                                      \n",
       "2006-01-03    2.669643    2.580357    2.585000    2.669643  807234400.0   \n",
       "2006-01-04    2.713571    2.660714    2.683214    2.677500  619603600.0   \n",
       "2006-01-05    2.675000    2.633929    2.672500    2.656429  449422400.0   \n",
       "2006-01-06    2.739286    2.662500    2.687500    2.725000  704457600.0   \n",
       "2006-01-09    2.757143    2.705000    2.740357    2.716071  675040800.0   \n",
       "...                ...         ...         ...         ...          ...   \n",
       "2021-05-10  129.539993  126.809998  129.410004  126.849998   88071200.0   \n",
       "2021-05-11  126.269997  122.769997  123.500000  125.910004  126142800.0   \n",
       "2021-05-12  124.639999  122.250000  123.400002  122.769997  112172300.0   \n",
       "2021-05-13  126.150002  124.260002  124.580002  124.970001  105861300.0   \n",
       "2021-05-14  127.889999  125.849998  126.250000  127.449997   81806500.0   \n",
       "\n",
       "             Adj Close  \n",
       "Date                    \n",
       "2006-01-03    2.295634  \n",
       "2006-01-04    2.302390  \n",
       "2006-01-05    2.284271  \n",
       "2006-01-06    2.343235  \n",
       "2006-01-09    2.335557  \n",
       "...                ...  \n",
       "2021-05-10  126.849998  \n",
       "2021-05-11  125.910004  \n",
       "2021-05-12  122.769997  \n",
       "2021-05-13  124.970001  \n",
       "2021-05-14  127.449997  \n",
       "\n",
       "[3868 rows x 6 columns]"
      ]
     },
     "execution_count": 7,
     "metadata": {},
     "output_type": "execute_result"
    }
   ],
   "source": [
    "yahoo_data"
   ]
  },
  {
   "cell_type": "code",
   "execution_count": 13,
   "id": "68f91aea",
   "metadata": {},
   "outputs": [
    {
     "data": {
      "text/plain": [
       "[<matplotlib.lines.Line2D at 0x1e51ecde430>,\n",
       " <matplotlib.lines.Line2D at 0x1e51c994fd0>]"
      ]
     },
     "execution_count": 13,
     "metadata": {},
     "output_type": "execute_result"
    },
    {
     "data": {
      "image/png": "[encoded data removed]",
      "text/plain": [
       "<Figure size 432x288 with 1 Axes>"
      ]
     },
     "metadata": {
      "needs_background": "light"
     },
     "output_type": "display_data"
    }
   ],
   "source": [
    "plt.plot(yahoo_data.loc[:, ['High', 'Low']])"
   ]
  },
  {
   "cell_type": "code",
   "execution_count": 14,
   "id": "0428da6a",
   "metadata": {},
   "outputs": [
    {
     "data": {
      "text/html": [
       "<div>\n",
       "<style scoped>\n",
       "    .dataframe tbody tr th:only-of-type {\n",
       "        vertical-align: middle;\n",
       "    }\n",
       "\n",
       "    .dataframe tbody tr th {\n",
       "        vertical-align: top;\n",
       "    }\n",
       "\n",
       "    .dataframe thead th {\n",
       "        text-align: right;\n",
       "    }\n",
       "</style>\n",
       "<table border=\"1\" class=\"dataframe\">\n",
       "  <thead>\n",
       "    <tr style=\"text-align: right;\">\n",
       "      <th></th>\n",
       "      <th>High</th>\n",
       "      <th>Low</th>\n",
       "      <th>Open</th>\n",
       "      <th>Close</th>\n",
       "      <th>Volume</th>\n",
       "      <th>Adj Close</th>\n",
       "    </tr>\n",
       "    <tr>\n",
       "      <th>Date</th>\n",
       "      <th></th>\n",
       "      <th></th>\n",
       "      <th></th>\n",
       "      <th></th>\n",
       "      <th></th>\n",
       "      <th></th>\n",
       "    </tr>\n",
       "  </thead>\n",
       "  <tbody>\n",
       "    <tr>\n",
       "      <th>2006-01-03</th>\n",
       "      <td>NaN</td>\n",
       "      <td>NaN</td>\n",
       "      <td>NaN</td>\n",
       "      <td>NaN</td>\n",
       "      <td>NaN</td>\n",
       "      <td>NaN</td>\n",
       "    </tr>\n",
       "    <tr>\n",
       "      <th>2006-01-04</th>\n",
       "      <td>0.016455</td>\n",
       "      <td>0.031142</td>\n",
       "      <td>0.037994</td>\n",
       "      <td>0.002943</td>\n",
       "      <td>-0.232437</td>\n",
       "      <td>0.002943</td>\n",
       "    </tr>\n",
       "    <tr>\n",
       "      <th>2006-01-05</th>\n",
       "      <td>-0.014214</td>\n",
       "      <td>-0.010067</td>\n",
       "      <td>-0.003993</td>\n",
       "      <td>-0.007870</td>\n",
       "      <td>-0.274661</td>\n",
       "      <td>-0.007870</td>\n",
       "    </tr>\n",
       "    <tr>\n",
       "      <th>2006-01-06</th>\n",
       "      <td>0.024032</td>\n",
       "      <td>0.010847</td>\n",
       "      <td>0.005613</td>\n",
       "      <td>0.025813</td>\n",
       "      <td>0.567473</td>\n",
       "      <td>0.025813</td>\n",
       "    </tr>\n",
       "    <tr>\n",
       "      <th>2006-01-09</th>\n",
       "      <td>0.006519</td>\n",
       "      <td>0.015962</td>\n",
       "      <td>0.019668</td>\n",
       "      <td>-0.003277</td>\n",
       "      <td>-0.041758</td>\n",
       "      <td>-0.003277</td>\n",
       "    </tr>\n",
       "    <tr>\n",
       "      <th>...</th>\n",
       "      <td>...</td>\n",
       "      <td>...</td>\n",
       "      <td>...</td>\n",
       "      <td>...</td>\n",
       "      <td>...</td>\n",
       "      <td>...</td>\n",
       "    </tr>\n",
       "    <tr>\n",
       "      <th>2021-05-10</th>\n",
       "      <td>-0.013104</td>\n",
       "      <td>-0.020621</td>\n",
       "      <td>-0.011005</td>\n",
       "      <td>-0.025805</td>\n",
       "      <td>0.116342</td>\n",
       "      <td>-0.025805</td>\n",
       "    </tr>\n",
       "    <tr>\n",
       "      <th>2021-05-11</th>\n",
       "      <td>-0.025243</td>\n",
       "      <td>-0.031859</td>\n",
       "      <td>-0.045669</td>\n",
       "      <td>-0.007410</td>\n",
       "      <td>0.432282</td>\n",
       "      <td>-0.007410</td>\n",
       "    </tr>\n",
       "    <tr>\n",
       "      <th>2021-05-12</th>\n",
       "      <td>-0.012909</td>\n",
       "      <td>-0.004236</td>\n",
       "      <td>-0.000810</td>\n",
       "      <td>-0.024939</td>\n",
       "      <td>-0.110751</td>\n",
       "      <td>-0.024939</td>\n",
       "    </tr>\n",
       "    <tr>\n",
       "      <th>2021-05-13</th>\n",
       "      <td>0.012115</td>\n",
       "      <td>0.016442</td>\n",
       "      <td>0.009562</td>\n",
       "      <td>0.017920</td>\n",
       "      <td>-0.056262</td>\n",
       "      <td>0.017920</td>\n",
       "    </tr>\n",
       "    <tr>\n",
       "      <th>2021-05-14</th>\n",
       "      <td>0.013793</td>\n",
       "      <td>0.012796</td>\n",
       "      <td>0.013405</td>\n",
       "      <td>0.019845</td>\n",
       "      <td>-0.227229</td>\n",
       "      <td>0.019845</td>\n",
       "    </tr>\n",
       "  </tbody>\n",
       "</table>\n",
       "<p>3868 rows × 6 columns</p>\n",
       "</div>"
      ],
      "text/plain": [
       "                High       Low      Open     Close    Volume  Adj Close\n",
       "Date                                                                   \n",
       "2006-01-03       NaN       NaN       NaN       NaN       NaN        NaN\n",
       "2006-01-04  0.016455  0.031142  0.037994  0.002943 -0.232437   0.002943\n",
       "2006-01-05 -0.014214 -0.010067 -0.003993 -0.007870 -0.274661  -0.007870\n",
       "2006-01-06  0.024032  0.010847  0.005613  0.025813  0.567473   0.025813\n",
       "2006-01-09  0.006519  0.015962  0.019668 -0.003277 -0.041758  -0.003277\n",
       "...              ...       ...       ...       ...       ...        ...\n",
       "2021-05-10 -0.013104 -0.020621 -0.011005 -0.025805  0.116342  -0.025805\n",
       "2021-05-11 -0.025243 -0.031859 -0.045669 -0.007410  0.432282  -0.007410\n",
       "2021-05-12 -0.012909 -0.004236 -0.000810 -0.024939 -0.110751  -0.024939\n",
       "2021-05-13  0.012115  0.016442  0.009562  0.017920 -0.056262   0.017920\n",
       "2021-05-14  0.013793  0.012796  0.013405  0.019845 -0.227229   0.019845\n",
       "\n",
       "[3868 rows x 6 columns]"
      ]
     },
     "execution_count": 14,
     "metadata": {},
     "output_type": "execute_result"
    }
   ],
   "source": [
    "yahoo_data.pct_change()"
   ]
  },
  {
   "cell_type": "code",
   "execution_count": 17,
   "id": "2047aafe",
   "metadata": {},
   "outputs": [
    {
     "data": {
      "text/plain": [
       "<AxesSubplot:xlabel='Date'>"
      ]
     },
     "execution_count": 17,
     "metadata": {},
     "output_type": "execute_result"
    },
    {
     "data": {
      "image/png": "[encoded data removed]",
      "text/plain": [
       "<Figure size 432x288 with 1 Axes>"
      ]
     },
     "metadata": {
      "needs_background": "light"
     },
     "output_type": "display_data"
    }
   ],
   "source": [
    "yahoo_data.resample('M').mean()['High'].plot(kind='line')"
   ]
  },
  {
   "cell_type": "markdown",
   "id": "4a319846",
   "metadata": {},
   "source": [
    "Log returns"
   ]
  },
  {
   "cell_type": "code",
   "execution_count": 24,
   "id": "1e698532",
   "metadata": {},
   "outputs": [
    {
     "data": {
      "text/plain": [
       "<AxesSubplot:xlabel='Date'>"
      ]
     },
     "execution_count": 24,
     "metadata": {},
     "output_type": "execute_result"
    },
    {
     "data": {
      "image/png": "[encoded data removed]",
      "text/plain": [
       "<Figure size 432x288 with 1 Axes>"
      ]
     },
     "metadata": {
      "needs_background": "light"
     },
     "output_type": "display_data"
    }
   ],
   "source": [
    "yahoo_data.resample('M').mean()['High'].pct_change().apply(lambda x: np.log(x+1)).plot(kind='bar')"
   ]
  },
  {
   "cell_type": "code",
   "execution_count": 30,
   "id": "3385a120",
   "metadata": {},
   "outputs": [
    {
     "data": {
      "text/plain": [
       "count    3867.000000\n",
       "mean        0.001215\n",
       "std         0.020736\n",
       "min        -0.179195\n",
       "25%        -0.008364\n",
       "50%         0.000941\n",
       "75%         0.011701\n",
       "max         0.139049\n",
       "Name: Close, dtype: float64"
      ]
     },
     "execution_count": 30,
     "metadata": {},
     "output_type": "execute_result"
    },
    {
     "data": {
      "image/png": "[encoded data removed]",
      "text/plain": [
       "<Figure size 432x288 with 1 Axes>"
      ]
     },
     "metadata": {
      "needs_background": "light"
     },
     "output_type": "display_data"
    }
   ],
   "source": [
    "yahoo_data['Close'].pct_change().hist(bins=200)\n",
    "yahoo_data['Close'].pct_change().describe()"
   ]
  },
  {
   "cell_type": "markdown",
   "id": "399749e1",
   "metadata": {},
   "source": [
    "Cumulative daily rate of return"
   ]
  },
  {
   "cell_type": "code",
   "execution_count": 35,
   "id": "50799ec7",
   "metadata": {},
   "outputs": [
    {
     "data": {
      "text/plain": [
       "Date\n",
       "2006-01-03          NaN\n",
       "2006-01-04     1.002943\n",
       "2006-01-05     0.995050\n",
       "2006-01-06     1.020736\n",
       "2006-01-09     1.017391\n",
       "                ...    \n",
       "2021-05-10    47.515717\n",
       "2021-05-11    47.163612\n",
       "2021-05-12    45.987422\n",
       "2021-05-13    46.811504\n",
       "2021-05-14    47.740466\n",
       "Name: Close, Length: 3868, dtype: float64"
      ]
     },
     "execution_count": 35,
     "metadata": {},
     "output_type": "execute_result"
    }
   ],
   "source": [
    "(yahoo_data['Close'].pct_change() + 1).cumprod()"
   ]
  },
  {
   "cell_type": "code",
   "execution_count": 34,
   "id": "23a49920",
   "metadata": {},
   "outputs": [
    {
     "data": {
      "text/plain": [
       "<AxesSubplot:xlabel='Date'>"
      ]
     },
     "execution_count": 34,
     "metadata": {},
     "output_type": "execute_result"
    },
    {
     "data": {
      "image/png": "[encoded data removed]",
      "text/plain": [
       "<Figure size 432x288 with 1 Axes>"
      ]
     },
     "metadata": {
      "needs_background": "light"
     },
     "output_type": "display_data"
    }
   ],
   "source": [
    "(yahoo_data['Close'].pct_change() + 1).cumprod().plot(kind='line')"
   ]
  },
  {
   "cell_type": "code",
   "execution_count": 38,
   "id": "feda2965",
   "metadata": {},
   "outputs": [
    {
     "data": {
      "text/plain": [
       "Date\n",
       "2006-01-03     1.000000\n",
       "2006-01-04     1.002943\n",
       "2006-01-05     0.995050\n",
       "2006-01-06     1.020736\n",
       "2006-01-09     1.017391\n",
       "                ...    \n",
       "2021-05-10    47.515717\n",
       "2021-05-11    47.163612\n",
       "2021-05-12    45.987422\n",
       "2021-05-13    46.811504\n",
       "2021-05-14    47.740466\n",
       "Name: Close, Length: 3868, dtype: float64"
      ]
     },
     "execution_count": 38,
     "metadata": {},
     "output_type": "execute_result"
    }
   ],
   "source": [
    "(yahoo_data['Close'] / yahoo_data['Close'].iloc[0])"
   ]
  },
  {
   "cell_type": "code",
   "execution_count": 37,
   "id": "bfe8fafd",
   "metadata": {},
   "outputs": [
    {
     "data": {
      "text/plain": [
       "<AxesSubplot:xlabel='Date'>"
      ]
     },
     "execution_count": 37,
     "metadata": {},
     "output_type": "execute_result"
    },
    {
     "data": {
      "image/png": "[encoded data removed]",
      "text/plain": [
       "<Figure size 432x288 with 1 Axes>"
      ]
     },
     "metadata": {
      "needs_background": "light"
     },
     "output_type": "display_data"
    }
   ],
   "source": [
    "(yahoo_data['Close'] / yahoo_data['Close'].iloc[0]).plot(kind='line')"
   ]
  }
 ],
 "metadata": {
  "kernelspec": {
   "display_name": "Python 3",
   "language": "python",
   "name": "python3"
  },
  "language_info": {
   "codemirror_mode": {
    "name": "ipython",
    "version": 3
   },
   "file_extension": ".py",
   "mimetype": "text/x-python",
   "name": "python",
   "nbconvert_exporter": "python",
   "pygments_lexer": "ipython3",
   "version": "3.9.4"
  }
 },
 "nbformat": 4,
 "nbformat_minor": 5
}
